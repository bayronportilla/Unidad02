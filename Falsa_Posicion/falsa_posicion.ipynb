{
 "cells": [
  {
   "cell_type": "markdown",
   "metadata": {},
   "source": [
    "# El método de la falsa posición"
   ]
  },
  {
   "cell_type": "markdown",
   "metadata": {},
   "source": [
    "Resolver la ecuación $2-x+3\\sin(x)$ usando el método de la falsa posición"
   ]
  },
  {
   "cell_type": "code",
   "execution_count": 213,
   "metadata": {
    "collapsed": true
   },
   "outputs": [],
   "source": [
    "# Librerías útiles\n",
    "import numpy as np"
   ]
  },
  {
   "cell_type": "code",
   "execution_count": 224,
   "metadata": {
    "collapsed": false
   },
   "outputs": [],
   "source": [
    "# La función a resolver\n",
    "\"\"\"\n",
    "def f(x):\n",
    "    value=2-x+3*np.sin(x)\n",
    "    return value\n",
    "\"\"\"\n",
    "\n",
    "\"\"\"\n",
    "def f(V):\n",
    "    P = 10.0\n",
    "    a = 3.599\n",
    "    b = 0.04267\n",
    "    R = 0.08205\n",
    "    T = 353.2\n",
    "    value = (P+a/V**2)*(V-b)-R*T\n",
    "    return value\n",
    "\"\"\"\n",
    "\n",
    "def f(x):\n",
    "    value=x**3+4*x**2+x\n",
    "    return value"
   ]
  },
  {
   "cell_type": "code",
   "execution_count": 229,
   "metadata": {
    "collapsed": true
   },
   "outputs": [],
   "source": [
    "# Inputs\n",
    "p_prev_2 = -1\n",
    "p_prev_1 = 1\n",
    "Tol = 1e-8\n",
    "error = 1.0\n",
    "Nmax = 1000\n",
    "iteracion = 0\n",
    "\n"
   ]
  },
  {
   "cell_type": "code",
   "execution_count": 230,
   "metadata": {
    "collapsed": false
   },
   "outputs": [
    {
     "name": "stdout",
     "output_type": "stream",
     "text": [
      "p_n = -2.00000\t error = 3.00000\t abs(f(p_n)) = 6.00000\t\n",
      "p_n = -0.50000\t error = 0.50000\t abs(f(p_n)) = 0.37500\t\n",
      "p_n = -0.40000\t error = 1.60000\t abs(f(p_n)) = 0.17600\t\n",
      "p_n = -0.31156\t error = 0.18844\t abs(f(p_n)) = 0.04647\t\n",
      "p_n = -0.27983\t error = 0.12017\t abs(f(p_n)) = 0.01147\t\n",
      "p_n = -0.26942\t error = 0.04213\t abs(f(p_n)) = 0.00138\t\n",
      "p_n = -0.26801\t error = 0.01182\t abs(f(p_n)) = 0.00005\t\n",
      "p_n = -0.26795\t error = 0.00147\t abs(f(p_n)) = 0.00000\t\n",
      "p_n = -0.26795\t error = 0.00006\t abs(f(p_n)) = 0.00000\t\n",
      "p_n = -0.26795\t error = 0.00000\t abs(f(p_n)) = 0.00000\t\n"
     ]
    },
    {
     "data": {
      "text/plain": [
       "'\\nq_prev_1 = f(p_prev_1) \\nq_prev_2 = f(p_prev_2)\\nwhile(error>Tol):\\n    p = p_prev_1 - (p_prev_1-p_prev_2)*q_prev_1/(q_prev_1-q_prev_2)\\n    error = abs(p-p_prev_1)\\n    q=f(p)\\n    if(q*q_prev_1<0):        \\n        p_prev_2 = p_prev_1\\n        q_prev_2 = q_prev_1\\n    p_prev_1 = p\\n    q_prev_1 = q\\n    print(\"p_n = %.5f\\t error = %.5f\\t abs(f(p_n)) = %.5f\"%(p,error,abs(f(p))))\\n    iteracion=iteracion+1\\n    if(iteracion>=Nmax):\\n        print(\"El método no converge después de %d iteraciones\"%Nmax)\\n        break\\n'"
      ]
     },
     "execution_count": 230,
     "metadata": {},
     "output_type": "execute_result"
    }
   ],
   "source": [
    "# Implementación del algorítmo\n",
    "\n",
    "while(error>Tol):\n",
    "    p = p_prev_1 - (p_prev_1-p_prev_2)*f(p_prev_1)/(f(p_prev_1)-f(p_prev_2))\n",
    "    #error = abs(p_prev_2-p_prev_1)\n",
    "    #print(error)\n",
    "    error = abs(p-p_prev_1)\n",
    "    if(f(p)*f(p_prev_1)<0):        \n",
    "        #p_error=p_prev_1\n",
    "        #error=abs(p-p_error)\n",
    "        p_prev_2 = p_prev_1\n",
    "        p_prev_1 = p\n",
    "        print(\"p_n = %.5f\\t error = %.5f\\t abs(f(p_n)) = %.5f\\t \"%(p,error,abs(f(p))))\n",
    "    elif(f(p)*f(p_prev_1)>0):\n",
    "        #p_error=p_prev_2\n",
    "        #error = abs(p-p_error)\n",
    "        p_prev_1 = p_prev_2\n",
    "        p_prev_2 = p\n",
    "        print(\"p_n = %.5f\\t error = %.5f\\t abs(f(p_n)) = %.5f\\t\"%(p,error,abs(f(p))))\n",
    "    iteracion=iteracion+1\n",
    "    if(iteracion>=Nmax):\n",
    "        print(\"El método no converge después de %d iteraciones\"%Nmax)\n",
    "        break\n",
    "\n",
    "       \n",
    "# p_prev_1>p_prev_2\n",
    "\"\"\"\n",
    "q_prev_1 = f(p_prev_1) \n",
    "q_prev_2 = f(p_prev_2)\n",
    "while(error>Tol):\n",
    "    p = p_prev_1 - (p_prev_1-p_prev_2)*q_prev_1/(q_prev_1-q_prev_2)\n",
    "    error = abs(p-p_prev_1)\n",
    "    q=f(p)\n",
    "    if(q*q_prev_1<0):        \n",
    "        p_prev_2 = p_prev_1\n",
    "        q_prev_2 = q_prev_1\n",
    "    p_prev_1 = p\n",
    "    q_prev_1 = q\n",
    "    print(\"p_n = %.5f\\t error = %.5f\\t abs(f(p_n)) = %.5f\"%(p,error,abs(f(p))))\n",
    "    iteracion=iteracion+1\n",
    "    if(iteracion>=Nmax):\n",
    "        print(\"El método no converge después de %d iteraciones\"%Nmax)\n",
    "        break\n",
    "\"\"\""
   ]
  },
  {
   "cell_type": "code",
   "execution_count": 69,
   "metadata": {
    "collapsed": true
   },
   "outputs": [],
   "source": [
    "def VanDerWaals(V):\n",
    "    P = 10.0\n",
    "    a = 3.599\n",
    "    b = 0.04267\n",
    "    R = 0.08205\n",
    "    T = 353.2\n",
    "    value = (P+a/V**2)*(V-b)-R*T\n",
    "    return value"
   ]
  },
  {
   "cell_type": "code",
   "execution_count": 10,
   "metadata": {
    "collapsed": false
   },
   "outputs": [
    {
     "data": {
      "image/png": "[encoded data removed]",
      "text/plain": [
       "<Figure size 432x288 with 1 Axes>"
      ]
     },
     "metadata": {},
     "output_type": "display_data"
    }
   ],
   "source": [
    "vol=np.linspace(2.5,3,100)\n",
    "import matplotlib.pyplot as plt\n",
    "fig=plt.figure()\n",
    "ax=plt.axes()\n",
    "ax.plot(vol,VanDerWaals(vol))\n",
    "\n",
    "plt.show()"
   ]
  },
  {
   "cell_type": "code",
   "execution_count": null,
   "metadata": {
    "collapsed": true
   },
   "outputs": [],
   "source": []
  }
 ],
 "metadata": {
  "kernelspec": {
   "display_name": "Python 3",
   "language": "python",
   "name": "python3"
  },
  "language_info": {
   "codemirror_mode": {
    "name": "ipython",
    "version": 3
   },
   "file_extension": ".py",
   "mimetype": "text/x-python",
   "name": "python",
   "nbconvert_exporter": "python",
   "pygments_lexer": "ipython3",
   "version": "3.6.0"
  }
 },
 "nbformat": 4,
 "nbformat_minor": 2
}
