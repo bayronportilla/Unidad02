{
 "cells": [
  {
   "cell_type": "code",
   "execution_count": 60,
   "metadata": {
    "collapsed": false
   },
   "outputs": [
    {
     "data": {
      "text/plain": [
       "<function matplotlib.pyplot.show(*args, **kw)>"
      ]
     },
     "execution_count": 60,
     "metadata": {},
     "output_type": "execute_result"
    },
    {
     "data": {
      "image/png": "[encoded data removed]",
      "text/plain": [
       "<Figure size 432x288 with 1 Axes>"
      ]
     },
     "metadata": {},
     "output_type": "display_data"
    }
   ],
   "source": [
    "import numpy as np\n",
    "import matplotlib.pyplot as plt\n",
    "\n",
    "G=6.67e-11\n",
    "Ms=1.989e30\n",
    "AU=149.6e9\n",
    "YEARS=86400*365.25\n",
    "a=17.834*AU\n",
    "e=0.96714\n",
    "t_ini=0.0\n",
    "t_end=74.32*YEARS\n",
    "\n",
    "def Newton(t):\n",
    "\n",
    "    M = (G*Ms/a**3)**0.5 * t\n",
    "    \n",
    "    def f(E):\n",
    "        value=M-E+e*np.sin(E)\n",
    "        return value\n",
    "\n",
    "    def dfdE(E):\n",
    "        value=-1+e*np.cos(E)\n",
    "        return value\n",
    "    \n",
    "    Tol=1.0e-4\n",
    "    Nmax=1000\n",
    "    iteracion=0\n",
    "    error=1.0\n",
    "    p_prev=M\n",
    "\n",
    "    while(error>Tol):\n",
    "        p = p_prev - f(p_prev)/dfdE(p_prev)\n",
    "        error=abs(p-p_prev)\n",
    "        p_prev=p\n",
    "        iteracion+=1\n",
    "        if(iteracion>=Nmax):\n",
    "            print(\"El metodo no converge\")\n",
    "            break\n",
    "            \n",
    "    return p\n",
    "    \n",
    "\n",
    "\n",
    "time_array=np.linspace(t_ini,t_end,1000)\n",
    "\n",
    "phi_array=[]\n",
    "r_array=[]\n",
    "\n",
    "for i in range(0,len(time_array)):\n",
    "    E=Newton(time_array[i])\n",
    "    phi=2*np.arctan(((1+e)/(1-e))**0.5 * np.tan(0.5*E))\n",
    "    r=a*(1-e**2)/(1+e*np.cos(phi))\n",
    "    phi_array.append(phi)\n",
    "    r_array.append(r/AU)\n",
    "\n",
    "\n",
    "#print (phi_array)\n",
    "#print (r_array)\n",
    "\n",
    "x_array=[]\n",
    "y_array=[]\n",
    "\n",
    "for i in range(0,len(time_array)):\n",
    "    x = r_array[i]*np.cos(phi_array[i])\n",
    "    y = r_array[i]*np.sin(phi_array[i])\n",
    "    x_array.append(x)\n",
    "    y_array.append(y)\n",
    "\n",
    "\n",
    "\n",
    "fig=plt.figure()\n",
    "ax=plt.axes()\n",
    "ax.plot(x_array,y_array,'.')\n",
    "ax.plot(0,0,'yo')\n",
    "ax.set_aspect('equal')\n",
    "plt.show\n",
    "\n",
    "        "
   ]
  },
  {
   "cell_type": "code",
   "execution_count": 68,
   "metadata": {
    "collapsed": false
   },
   "outputs": [
    {
     "data": {
      "image/png": "[encoded data removed]",
      "text/plain": [
       "<Figure size 432x432 with 1 Axes>"
      ]
     },
     "metadata": {},
     "output_type": "display_data"
    }
   ],
   "source": [
    "import matplotlib.animation as animation\n",
    "# Scenario\n",
    "fig=plt.figure(figsize=(6,6))\n",
    "ax=fig.add_axes([0,0,1,1],xlim=(-2,2),ylim=(-2,2))\n",
    "ax.set_xticks([])\n",
    "ax.set_yticks([])\n",
    "ax.axhline(0.0,color='k')\n",
    "ax.axvline(0.0,color='k')\n",
    "\n",
    "\n",
    "# Initial position\n",
    "particle,=ax.plot([],[],'bo',label='Halley')\n",
    "time_template = 'time = %0.1f yr'\n",
    "time_text = ax.text(0.05, 0.9, '', transform=ax.transAxes)\n",
    "ax.legend()\n",
    "\n",
    "\n",
    "# Initialize\n",
    "def init():\n",
    "    particle.set_data([],[])\n",
    "    time_text.set_text('')\n",
    "    return particle, time_text\n",
    "\n",
    "# Animation properties\n",
    "P=t_end\n",
    "nframes=1000\n",
    "nanim=t_end/nframes\n",
    "dtframe=2\n",
    "fps=100\n",
    "\n",
    "# Animation routine\n",
    "def animate(iframe):\n",
    "    t=nanim*iframe\n",
    "    tshow=nanim*iframe\n",
    "    E=Newton(t)\n",
    "    x=a*(cos(E)-e)\n",
    "    y=b*sin(E)\n",
    "    particle.set_data(x,y)\n",
    "    time_text.set_text(time_template%(tshow))\n",
    "    \n",
    "\n",
    "# Animate\n",
    "anim=animation.FuncAnimation(fig,animate,init_func=init,frames=nframes,interval=dtframe,blit=True)\n",
    "#anim.save(\"orbita-kepler.mp4\",fps=fps)\n",
    "\n"
   ]
  },
  {
   "cell_type": "code",
   "execution_count": null,
   "metadata": {
    "collapsed": true
   },
   "outputs": [],
   "source": []
  }
 ],
 "metadata": {
  "kernelspec": {
   "display_name": "Python 3",
   "language": "python",
   "name": "python3"
  },
  "language_info": {
   "codemirror_mode": {
    "name": "ipython",
    "version": 3
   },
   "file_extension": ".py",
   "mimetype": "text/x-python",
   "name": "python",
   "nbconvert_exporter": "python",
   "pygments_lexer": "ipython3",
   "version": "3.6.0"
  }
 },
 "nbformat": 4,
 "nbformat_minor": 2
}
